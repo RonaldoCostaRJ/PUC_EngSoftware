{
 "cells": [
  {
   "cell_type": "code",
   "execution_count": 12,
   "metadata": {},
   "outputs": [
    {
     "data": {
      "text/plain": [
       "(array([[7.00e+00, 6.20e+01, 7.80e+01, ..., 3.26e+01, 3.91e-01, 4.10e+01],\n",
       "        [3.00e+00, 1.16e+02, 7.40e+01, ..., 2.63e+01, 1.07e-01, 2.40e+01],\n",
       "        [0.00e+00, 1.37e+02, 6.80e+01, ..., 2.48e+01, 1.43e-01, 2.10e+01],\n",
       "        ...,\n",
       "        [6.00e+00, 1.90e+02, 9.20e+01, ..., 3.55e+01, 2.78e-01, 6.60e+01],\n",
       "        [2.00e+00, 7.10e+01, 7.00e+01, ..., 2.80e+01, 5.86e-01, 2.20e+01],\n",
       "        [5.00e+00, 1.15e+02, 9.80e+01, ..., 5.29e+01, 2.09e-01, 2.80e+01]]),\n",
       " array([0., 0., 0., 0., 0., 0., 0., 0., 0., 0., 1., 1., 0., 1., 1., 0., 0.,\n",
       "        1., 1., 0., 1., 1., 0., 0., 1., 1., 0., 0., 0., 1., 1., 0., 0., 1.,\n",
       "        0., 0., 1., 1., 1., 0., 0., 0., 0., 0., 0., 0., 1., 1., 0., 0., 1.,\n",
       "        1., 0., 0., 0., 0., 1., 0., 1., 0., 0., 0., 1., 0., 0., 0., 1., 1.,\n",
       "        1., 0., 0., 0., 0., 1., 1., 1., 0., 0., 0., 0., 1., 1., 0., 0., 0.,\n",
       "        0., 0., 0., 1., 0., 0., 0., 0., 0., 0., 1., 1., 0., 1., 1., 0., 0.,\n",
       "        1., 0., 0., 0., 0., 0., 0., 0., 1., 0., 0., 0., 1., 1., 0., 0., 0.,\n",
       "        0., 1., 0., 1., 1., 0., 0., 0., 1., 1., 0., 1., 0., 1., 0., 0., 1.,\n",
       "        0., 1., 1., 1., 0., 0., 0., 0., 0., 1., 0., 0., 0., 0., 0., 1., 0.,\n",
       "        1.]))"
      ]
     },
     "execution_count": 12,
     "metadata": {},
     "output_type": "execute_result"
    }
   ],
   "source": [
    "from model import *\n",
    "\n",
    "url_dados = \"/Users/lucas/Developer/engenharia-de-software/mvp-qualidade-seguranca-sistemas-inteligentes/api/MachineLearning/data/test_dataset_diabetes.csv\"\n",
    "colunas = ['preg', 'plas', 'pres', 'skin', 'test', 'mass', 'pedi', 'age', 'class']\n",
    "\n",
    "# Carga dos dados\n",
    "dataset = Carregador.carregar_dados(url=url_dados, atributos=colunas)\n",
    "array = dataset.values\n",
    "X = array[:,0:-1]\n",
    "y = array[:,-1]\n",
    "\n",
    "X, y"
   ]
  },
  {
   "cell_type": "code",
   "execution_count": 20,
   "metadata": {},
   "outputs": [
    {
     "data": {
      "text/plain": [
       "(0.5,\n",
       " np.float64(0.7407407407407407),\n",
       " np.float64(0.3883495145631068),\n",
       " np.float64(0.5095541401273885))"
      ]
     },
     "execution_count": 20,
     "metadata": {},
     "output_type": "execute_result"
    }
   ],
   "source": [
    "import numpy as np\n",
    "from sklearn.metrics import accuracy_score, recall_score, precision_score, f1_score\n",
    "\n",
    "\n",
    "# Importando pipeline de Random Forest\n",
    "path = '/Users/lucas/Developer/engenharia-de-software/mvp-qualidade-seguranca-sistemas-inteligentes/api/MachineLearning/models/rf_diabetes_classifier.pkl'\n",
    "modelo = Pipeline.carrega_pipeline(path)\n",
    "\n",
    "# # Obtendo as métricas do Random Forest\n",
    "# acuracia_rf, recall_rf, precisao_rf, f1_rf = avaliador.avaliar(modelo_rf, X, y)\n",
    "\n",
    "# # Testando as métricas do Random Forest\n",
    "# # Modifique as métricas de acordo com seus requisitos\n",
    "# assert acuracia_rf >= 0.78\n",
    "# assert recall_rf >= 0.5 \n",
    "# assert precisao_rf >= 0.5 \n",
    "# assert f1_rf >= 0.5\n",
    "\n",
    "# rescalando os dados\n",
    "# X = np.array([7.0,62.0,78.0,0.0,0.0,32.6,0.391,41.0]).reshape(1, -1)\n",
    "# X = np.array(X).reshape(1, -1)\n",
    "diagnosis = modelo.predict(X)\n",
    "        \n",
    "# (accuracy_score(Y_test, predicoes),\n",
    "# recall_score(Y_test, predicoes, average='binary'),\n",
    "# precision_score(Y_test, predicoes, average='binary'),\n",
    "# f1_score(Y_test, predicoes, average='binary'))\n",
    "\n",
    "accuracy_score(y, diagnosis), recall_score(y, diagnosis, average='binary'), precision_score(y, diagnosis, average='binary'), f1_score(y, diagnosis, average='binary')"
   ]
  }
 ],
 "metadata": {
  "kernelspec": {
   "display_name": "Python 3",
   "language": "python",
   "name": "python3"
  },
  "language_info": {
   "codemirror_mode": {
    "name": "ipython",
    "version": 3
   },
   "file_extension": ".py",
   "mimetype": "text/x-python",
   "name": "python",
   "nbconvert_exporter": "python",
   "pygments_lexer": "ipython3",
   "version": "3.12.4"
  }
 },
 "nbformat": 4,
 "nbformat_minor": 2
}
